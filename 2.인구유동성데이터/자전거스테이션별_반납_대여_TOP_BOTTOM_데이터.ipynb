{
 "cells": [
  {
   "cell_type": "markdown",
   "metadata": {},
   "source": [
    "# 자전거 스테이션별로 대여와 반납이 많은 순, 적은 순으로 데이터 뽑기"
   ]
  },
  {
   "cell_type": "code",
   "execution_count": 3,
   "metadata": {},
   "outputs": [],
   "source": [
    "import pandas as pd\n",
    "\n",
    "# 파일 읽기 : b_rtn은 자전거 정류소 중에서 반납이 많은 순으로 나열한 데이터.\n",
    "a = pd.read_csv('b_rtn.csv')"
   ]
  },
  {
   "cell_type": "markdown",
   "metadata": {},
   "source": [
    "## 반납이 많은/적은 TOP10, TOP20 자전거 스테이션 정보 추출"
   ]
  },
  {
   "cell_type": "code",
   "execution_count": 22,
   "metadata": {},
   "outputs": [],
   "source": [
    "# 반납 많은 순 TOP10 뽑아 csv파일로 저장하기\n",
    "a_1 = a.head(10)\n",
    "a_1.to_csv('top_rtn_1.csv',mode='w')"
   ]
  },
  {
   "cell_type": "code",
   "execution_count": 23,
   "metadata": {},
   "outputs": [],
   "source": [
    "# 반납 많은 순 TOP20 뽑아 csv파일로 저장하기\n",
    "a_2 = a.head(20)\n",
    "a_2.to_csv('top_rtn_2.csv',mode='w')"
   ]
  },
  {
   "cell_type": "code",
   "execution_count": 26,
   "metadata": {},
   "outputs": [],
   "source": [
    "# 반납 적은 순 TOP10 뽑아 csv파일로 저장하기\n",
    "a_tail_1 = a.tail(10)\n",
    "a_tail_1.to_csv('low_rtn_1.csv',mode='w')"
   ]
  },
  {
   "cell_type": "code",
   "execution_count": 27,
   "metadata": {},
   "outputs": [],
   "source": [
    "# 반납 적은 순 TOP20 뽑아 csv파일로 저장하기\n",
    "a_tail_2 = a.tail(20)\n",
    "a_tail_2.to_csv('low_rtn_2.csv',mode='w')"
   ]
  },
  {
   "cell_type": "markdown",
   "metadata": {},
   "source": [
    "## 대여가 많은/적은 TOP10, TOP20 자전거 스테이션 정보 추출"
   ]
  },
  {
   "cell_type": "code",
   "execution_count": 28,
   "metadata": {},
   "outputs": [],
   "source": [
    "import pandas as pd\n",
    "# 파일 읽기 : b_rtn은 자전거 정류소 중에서 대여가 많은 순으로 나열한 데이터.\n",
    "s = pd.read_csv('b_leas.csv')"
   ]
  },
  {
   "cell_type": "code",
   "execution_count": 29,
   "metadata": {},
   "outputs": [],
   "source": [
    "# 대여 많은 순 TOP10 뽑아 csv파일로 저장하기\n",
    "s_1= s.head(10)\n",
    "s_1.to_csv('top_leas_1.csv',mode='w')"
   ]
  },
  {
   "cell_type": "code",
   "execution_count": 30,
   "metadata": {},
   "outputs": [],
   "source": [
    "# 대여 많은 순 TOP20 뽑아 csv파일로 저장하기\n",
    "s_2 = s.head(20)\n",
    "s_2.to_csv('top_leas_2.csv',mode='w')"
   ]
  },
  {
   "cell_type": "code",
   "execution_count": 31,
   "metadata": {},
   "outputs": [],
   "source": [
    "# 대여 적은 순 TOP10 뽑아 csv파일로 저장하기\n",
    "s_tail_1= s.tail(10)\n",
    "s_tail_1.to_csv('low_leas_1.csv',mode='w')\n",
    "\n",
    "# 대여 적은 순 TOP20 뽑아 csv파일로 저장하기\n",
    "s_tail_2 = s.tail(20)\n",
    "s_tail_2.to_csv('low_leas_2.csv',mode='w')"
   ]
  },
  {
   "cell_type": "code",
   "execution_count": null,
   "metadata": {},
   "outputs": [],
   "source": []
  }
 ],
 "metadata": {
  "kernelspec": {
   "display_name": "Python 3",
   "language": "python",
   "name": "python3"
  },
  "language_info": {
   "codemirror_mode": {
    "name": "ipython",
    "version": 3
   },
   "file_extension": ".py",
   "mimetype": "text/x-python",
   "name": "python",
   "nbconvert_exporter": "python",
   "pygments_lexer": "ipython3",
   "version": "3.8.3"
  }
 },
 "nbformat": 4,
 "nbformat_minor": 4
}
