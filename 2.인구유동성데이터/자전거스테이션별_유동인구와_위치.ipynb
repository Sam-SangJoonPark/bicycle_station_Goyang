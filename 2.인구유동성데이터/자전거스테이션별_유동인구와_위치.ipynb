{
 "cells": [
  {
   "cell_type": "code",
   "execution_count": null,
   "metadata": {
    "colab": {},
    "colab_type": "code",
    "id": "Suj83U-I_gip"
   },
   "outputs": [],
   "source": [
    "import pandas as pd"
   ]
  },
  {
   "cell_type": "code",
   "execution_count": null,
   "metadata": {
    "colab": {},
    "colab_type": "code",
    "id": "Wjs3cpTT_git"
   },
   "outputs": [],
   "source": [
    "# 파일 불러오기\n",
    "bicycle = pd.read_csv('01.운영이력.csv')\n",
    "station_info = pd.read_csv('02.자전거스테이션.csv')"
   ]
  },
  {
   "cell_type": "markdown",
   "metadata": {
    "colab_type": "text",
    "id": "RxqkFeN6ByrZ"
   },
   "source": [
    "# 코드 설명 - 02.자전거 스테이션 - \n",
    " - 현재 기준의 고양시 공공자전저 스테이션 위치 정보입니다.\n",
    "- Station_ID    스테이션 고유 번호\n",
    "- STATION_NAME    스테이션 이름 (◆:19년도 하반기 이후 신설/★:18년도 하반기 이전 - 신설/그외 미표기 스테이션은 초기설치)\n",
    "- 거치대 수량    자전거 최대 수용량\n",
    "- 위도    스테이션의 위도\n",
    "- 경도    스테이션의 경도"
   ]
  },
  {
   "cell_type": "code",
   "execution_count": null,
   "metadata": {
    "colab": {},
    "colab_type": "code",
    "id": "2omeVyNP_giz"
   },
   "outputs": [],
   "source": [
    "# 대여 -반납 정류소만 뽑았음.\n",
    "bicycle = bicycle[[\"LEAS_STATION\",\"RTN_STATION\"]]     "
   ]
  },
  {
   "cell_type": "code",
   "execution_count": null,
   "metadata": {
    "colab": {},
    "colab_type": "code",
    "id": "FmFFzRDz_gi3"
   },
   "outputs": [],
   "source": [
    "# 대여와 반납을 따로 나누어 추출함\n",
    "bicycle_leas = pd.DataFrame(bicycle[\"LEAS_STATION\"])    # 대여 정류소만 뽑음\n",
    "bicycle_rtn = pd.DataFrame(bicycle[\"RTN_STATION\"])       # 반납 정류소만 뽑음.\n"
   ]
  },
  {
   "cell_type": "code",
   "execution_count": null,
   "metadata": {
    "colab": {},
    "colab_type": "code",
    "id": "cgHWoaSeAS1A"
   },
   "outputs": [],
   "source": []
  },
  {
   "cell_type": "code",
   "execution_count": null,
   "metadata": {
    "colab": {},
    "colab_type": "code",
    "id": "oqYlxfOa_gi7",
    "outputId": "397a1ef4-36c6-4dc4-84cb-3d59a943b556"
   },
   "outputs": [
    {
     "name": "stderr",
     "output_type": "stream",
     "text": [
      "C:\\anaconda3\\lib\\site-packages\\pandas\\core\\indexing.py:671: SettingWithCopyWarning: \n",
      "A value is trying to be set on a copy of a slice from a DataFrame\n",
      "\n",
      "See the caveats in the documentation: https://pandas.pydata.org/pandas-docs/stable/user_guide/indexing.html#returning-a-view-versus-a-copy\n",
      "  self._setitem_with_indexer(indexer, value)\n"
     ]
    }
   ],
   "source": [
    "# 대여한 정류소들 위치 채우기\n",
    "# 약 6시간 이상 소요!!\n",
    "bicycle_leas['X'] = 0\n",
    "bicycle_leas['Y'] = 0\n",
    "\n",
    "\n",
    "for i in range(len(bicycle_leas['LEAS_STATION'])):\n",
    "    for j in range(len(station_info['Station_ID'])):\n",
    "        if bicycle_leas['LEAS_STATION'].iloc[i] == station_info['Station_ID'].iloc[j] :\n",
    "            bicycle_leas['X'].iloc[i] = station_info['위도'].iloc[j]\n",
    "            bicycle_leas['Y'].iloc[i] = station_info['경도'].iloc[j]\n",
    "            break\n"
   ]
  },
  {
   "cell_type": "code",
   "execution_count": null,
   "metadata": {
    "colab": {},
    "colab_type": "code",
    "id": "IJ4UwV6u_gi_"
   },
   "outputs": [],
   "source": [
    "# 완료된 파일을 csv로 저장하기\n",
    "bicycle_leas\n",
    "bicycle_leas.to_csv('bicycle_leas.csv',mode='w')"
   ]
  },
  {
   "cell_type": "code",
   "execution_count": null,
   "metadata": {
    "colab": {},
    "colab_type": "code",
    "id": "rSFpwv66_gjB"
   },
   "outputs": [],
   "source": [
    "# 이번엔 반납한 곳 위치 채우기\n",
    "# 약 6시간 이상 소요!!\n",
    "bicycle_rtn['X'] = 0\n",
    "bicycle_rtn['Y'] = 0\n",
    "\n",
    "\n",
    "for i in range(len(bicycle_rtn['RTN_STATION'])):\n",
    "    for j in range(len(station_info['Station_ID'])):\n",
    "        if bicycle_rtn['RTN_STATION'].iloc[i] == station_info['Station_ID'].iloc[j] :\n",
    "            bicycle_rtn['X'].iloc[i] = station_info['위도'].iloc[j]\n",
    "            bicycle_rtn['Y'].iloc[i] = station_info['경도'].iloc[j]\n",
    "            break\n"
   ]
  },
  {
   "cell_type": "code",
   "execution_count": null,
   "metadata": {
    "colab": {},
    "colab_type": "code",
    "id": "WbJEC4i-_gjE"
   },
   "outputs": [],
   "source": [
    "# 완료된 파일을 csv로 저장하기\n",
    "bicycle_rtn\n",
    "bicycle_rtn.to_csv('bicycle_rtn.csv',mode='w')"
   ]
  },
  {
   "cell_type": "code",
   "execution_count": null,
   "metadata": {
    "colab": {},
    "colab_type": "code",
    "id": "xbs7CFnb_gjK"
   },
   "outputs": [],
   "source": [
    "# groupby와 count로 스테이션별로 총 대여가 얼마나 이루어졌는지 보기\n",
    "a_leas = bicycle_leas.groupby(by='LEAS_STATION').count()\n",
    "b_leas = a_leas.sort_values(by='X',ascending=False)"
   ]
  },
  {
   "cell_type": "code",
   "execution_count": null,
   "metadata": {
    "colab": {},
    "colab_type": "code",
    "id": "74KDNb9i_gjM"
   },
   "outputs": [],
   "source": [
    "# 집계된 자료 살펴보기 = 대여수가 높은 10개 스테이션\n",
    "b_leas.head(10)\n"
   ]
  },
  {
   "cell_type": "code",
   "execution_count": null,
   "metadata": {
    "colab": {},
    "colab_type": "code",
    "id": "KGkn3UiV_gjO"
   },
   "outputs": [],
   "source": [
    "# 집계된 자료 살펴보기 - 대여수가 낮은 10개 스테이션\n",
    "b_leas.tail(10)"
   ]
  },
  {
   "cell_type": "code",
   "execution_count": null,
   "metadata": {
    "colab": {},
    "colab_type": "code",
    "id": "ythQih4p_gjR"
   },
   "outputs": [],
   "source": [
    "# 불필요한 칼럼 삭제, 이름 재설정\n",
    "del b_leas['X']\n",
    "b_leas = b_leas.rename(columns = {\"Y\":\"정류장 이용 건수\"})"
   ]
  },
  {
   "cell_type": "code",
   "execution_count": null,
   "metadata": {
    "colab": {},
    "colab_type": "code",
    "id": "NsZhUxHI_gjU"
   },
   "outputs": [],
   "source": [
    "b_leas"
   ]
  },
  {
   "cell_type": "code",
   "execution_count": null,
   "metadata": {
    "colab": {},
    "colab_type": "code",
    "id": "FufFICCK_gjY"
   },
   "outputs": [],
   "source": [
    "#RTN으로 파일만들기 - b_leas와 같은 작업\n",
    "a_rtn = bicycle_rtn.groupby(by='RTN_STATION').count()\n",
    "\n",
    "# 많은 순으로 뽑음\n",
    "b_rtn = a_rtn.sort_values(by='X',ascending=False)\n",
    "del b_rtn['X']\n",
    "b_rtn = b_rtn.rename(columns = {\"Y\":\"정류장 이용 건수\"})"
   ]
  },
  {
   "cell_type": "code",
   "execution_count": null,
   "metadata": {
    "colab": {},
    "colab_type": "code",
    "id": "S6vUNa3__gja"
   },
   "outputs": [],
   "source": [
    "# 대여가 많은 순으로 정류장 number를 뽑은 데이터\n",
    "b_leas "
   ]
  },
  {
   "cell_type": "code",
   "execution_count": null,
   "metadata": {
    "colab": {},
    "colab_type": "code",
    "id": "ZFML--IE_gjc",
    "outputId": "f7df57c3-5feb-4265-b322-0b3c92b1f124"
   },
   "outputs": [
    {
     "data": {
      "text/html": [
       "<div>\n",
       "<style scoped>\n",
       "    .dataframe tbody tr th:only-of-type {\n",
       "        vertical-align: middle;\n",
       "    }\n",
       "\n",
       "    .dataframe tbody tr th {\n",
       "        vertical-align: top;\n",
       "    }\n",
       "\n",
       "    .dataframe thead th {\n",
       "        text-align: right;\n",
       "    }\n",
       "</style>\n",
       "<table border=\"1\" class=\"dataframe\">\n",
       "  <thead>\n",
       "    <tr style=\"text-align: right;\">\n",
       "      <th></th>\n",
       "      <th>정류장 이용 건수</th>\n",
       "      <th>위도</th>\n",
       "      <th>경도</th>\n",
       "    </tr>\n",
       "    <tr>\n",
       "      <th>LEAS_STATION</th>\n",
       "      <th></th>\n",
       "      <th></th>\n",
       "      <th></th>\n",
       "    </tr>\n",
       "  </thead>\n",
       "  <tbody>\n",
       "    <tr>\n",
       "      <th>253</th>\n",
       "      <td>83134</td>\n",
       "      <td>37.663241</td>\n",
       "      <td>126.762162</td>\n",
       "    </tr>\n",
       "    <tr>\n",
       "      <th>254</th>\n",
       "      <td>78594</td>\n",
       "      <td>37.655647</td>\n",
       "      <td>126.768352</td>\n",
       "    </tr>\n",
       "    <tr>\n",
       "      <th>309</th>\n",
       "      <td>78272</td>\n",
       "      <td>37.671278</td>\n",
       "      <td>126.761898</td>\n",
       "    </tr>\n",
       "    <tr>\n",
       "      <th>259</th>\n",
       "      <td>70746</td>\n",
       "      <td>37.656722</td>\n",
       "      <td>126.771620</td>\n",
       "    </tr>\n",
       "    <tr>\n",
       "      <th>210</th>\n",
       "      <td>69549</td>\n",
       "      <td>37.663673</td>\n",
       "      <td>126.767099</td>\n",
       "    </tr>\n",
       "    <tr>\n",
       "      <th>...</th>\n",
       "      <td>...</td>\n",
       "      <td>...</td>\n",
       "      <td>...</td>\n",
       "    </tr>\n",
       "    <tr>\n",
       "      <th>265</th>\n",
       "      <td>767</td>\n",
       "      <td>37.661296</td>\n",
       "      <td>126.750847</td>\n",
       "    </tr>\n",
       "    <tr>\n",
       "      <th>264</th>\n",
       "      <td>688</td>\n",
       "      <td>37.664403</td>\n",
       "      <td>126.748019</td>\n",
       "    </tr>\n",
       "    <tr>\n",
       "      <th>351</th>\n",
       "      <td>473</td>\n",
       "      <td>37.702259</td>\n",
       "      <td>126.767231</td>\n",
       "    </tr>\n",
       "    <tr>\n",
       "      <th>263</th>\n",
       "      <td>253</td>\n",
       "      <td>37.661579</td>\n",
       "      <td>126.747736</td>\n",
       "    </tr>\n",
       "    <tr>\n",
       "      <th>998</th>\n",
       "      <td>25</td>\n",
       "      <td>0.000000</td>\n",
       "      <td>0.000000</td>\n",
       "    </tr>\n",
       "  </tbody>\n",
       "</table>\n",
       "<p>156 rows × 3 columns</p>\n",
       "</div>"
      ],
      "text/plain": [
       "              정류장 이용 건수         위도          경도\n",
       "LEAS_STATION                                  \n",
       "253               83134  37.663241  126.762162\n",
       "254               78594  37.655647  126.768352\n",
       "309               78272  37.671278  126.761898\n",
       "259               70746  37.656722  126.771620\n",
       "210               69549  37.663673  126.767099\n",
       "...                 ...        ...         ...\n",
       "265                 767  37.661296  126.750847\n",
       "264                 688  37.664403  126.748019\n",
       "351                 473  37.702259  126.767231\n",
       "263                 253  37.661579  126.747736\n",
       "998                  25   0.000000    0.000000\n",
       "\n",
       "[156 rows x 3 columns]"
      ]
     },
     "execution_count": 116,
     "metadata": {
      "tags": []
     },
     "output_type": "execute_result"
    }
   ],
   "source": [
    "# 반납이 많은 순으로 정류장 number를 뽑은 데이터\n",
    "b_rtn"
   ]
  }
 ],
 "metadata": {
  "colab": {
   "collapsed_sections": [],
   "name": "자전거스테이션별_유동인구.ipynb",
   "provenance": []
  },
  "kernelspec": {
   "display_name": "Python 3",
   "language": "python",
   "name": "python3"
  },
  "language_info": {
   "codemirror_mode": {
    "name": "ipython",
    "version": 3
   },
   "file_extension": ".py",
   "mimetype": "text/x-python",
   "name": "python",
   "nbconvert_exporter": "python",
   "pygments_lexer": "ipython3",
   "version": "3.8.3"
  }
 },
 "nbformat": 4,
 "nbformat_minor": 1
}
